{
 "cells": [
  {
   "cell_type": "code",
   "execution_count": 1,
   "id": "90143d43",
   "metadata": {},
   "outputs": [
    {
     "name": "stdout",
     "output_type": "stream",
     "text": [
      "Hello Python\n"
     ]
    }
   ],
   "source": [
    "#1.Write a Python program to print \"Hello Python\"?\n",
    "print(\"Hello Python\")\n"
   ]
  },
  {
   "cell_type": "code",
   "execution_count": 3,
   "id": "102c2b3f",
   "metadata": {},
   "outputs": [
    {
     "name": "stdout",
     "output_type": "stream",
     "text": [
      "Enter the first Operand : 6\n",
      "Enter the second Operand : 2\n",
      "Addition of a and b is  8\n",
      "Division of a and b is  3.0\n"
     ]
    }
   ],
   "source": [
    "#2.Write a Python program to do arithmetical operations addition and division.?\n",
    "a= int(input(\"Enter the first Operand : \"))\n",
    "b=int(input(\"Enter the second Operand : \"))\n",
    "add = a+b\n",
    "print(\"Addition of a and b is \",add)\n",
    "div = a/b\n",
    "print(\"Division of a and b is \",div)"
   ]
  },
  {
   "cell_type": "code",
   "execution_count": 6,
   "id": "a0db1179",
   "metadata": {},
   "outputs": [
    {
     "name": "stdout",
     "output_type": "stream",
     "text": [
      "Enter the base of Triangle : 6\n",
      "Enter the height of Triangle4\n",
      "Area of the triangle is :  12.0\n"
     ]
    }
   ],
   "source": [
    "#3.Write a Python program to find the area of a triangle?\n",
    "base = float(input(\"Enter the base of Triangle : \"))\n",
    "height = float(input(\"Enter the height of Triangle\"))\n",
    "Area = (base*height)/2\n",
    "print(\"Area of the triangle is : \",Area)"
   ]
  },
  {
   "cell_type": "code",
   "execution_count": 10,
   "id": "5d187128",
   "metadata": {},
   "outputs": [
    {
     "name": "stdout",
     "output_type": "stream",
     "text": [
      "Values of a and b before swapping :  5   10\n",
      "Values of a and b after swapping :  10   5\n"
     ]
    }
   ],
   "source": [
    "#4.Write a Python program to swap two variables?\n",
    "a=5\n",
    "b=10\n",
    "print(\"Values of a and b before swapping : \", a,\" \",b)\n",
    "a,b=b,a\n",
    "print(\"Values of a and b after swapping : \", a,\" \",b)"
   ]
  },
  {
   "cell_type": "code",
   "execution_count": 18,
   "id": "d5b15b1d",
   "metadata": {},
   "outputs": [
    {
     "name": "stdout",
     "output_type": "stream",
     "text": [
      "0.0760526393321882\n"
     ]
    }
   ],
   "source": [
    "#5.Write a Python program to generate a random number?\n",
    "import random\n",
    "number = random.random()\n",
    "print(number)"
   ]
  },
  {
   "cell_type": "code",
   "execution_count": null,
   "id": "30a91759",
   "metadata": {},
   "outputs": [],
   "source": []
  }
 ],
 "metadata": {
  "kernelspec": {
   "display_name": "Python 3 (ipykernel)",
   "language": "python",
   "name": "python3"
  },
  "language_info": {
   "codemirror_mode": {
    "name": "ipython",
    "version": 3
   },
   "file_extension": ".py",
   "mimetype": "text/x-python",
   "name": "python",
   "nbconvert_exporter": "python",
   "pygments_lexer": "ipython3",
   "version": "3.9.12"
  }
 },
 "nbformat": 4,
 "nbformat_minor": 5
}
