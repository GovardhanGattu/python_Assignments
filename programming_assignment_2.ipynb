{
 "cells": [
  {
   "cell_type": "code",
   "execution_count": 6,
   "id": "dedd1dec",
   "metadata": {},
   "outputs": [
    {
     "name": "stdout",
     "output_type": "stream",
     "text": [
      "Enter the value for Kilometer : 1\n",
      "For 1.0 kilometers we have 0.6215040397762586 miles\n"
     ]
    }
   ],
   "source": [
    "#1.Write a Python program to convert kilometers to miles?\n",
    "km = float(input(\"Enter the value for Kilometer : \" ))\n",
    "miles = (km)/1.609\n",
    "print(f\"For {km} kilometers we have {miles} miles\")"
   ]
  },
  {
   "cell_type": "code",
   "execution_count": 11,
   "id": "cf98bcdd",
   "metadata": {},
   "outputs": [
    {
     "name": "stdout",
     "output_type": "stream",
     "text": [
      "Enter the Celsius Value : 1\n",
      "1.0 degree celsius is equal to 33.8 Fahrenheit\n"
     ]
    }
   ],
   "source": [
    "#2.Write a Python program to convert Celsius to Fahrenheit?\n",
    "Celsius_value = float(input(\"Enter the Celsius Value : \"))\n",
    "Fahrenheit_value  = (Celsius_value*(9/5))+32\n",
    "print(f\"{Celsius_value} degree celsius is equal to {Fahrenheit_value} Fahrenheit\")\n",
    "                "
   ]
  },
  {
   "cell_type": "code",
   "execution_count": 2,
   "id": "2bc89b8f",
   "metadata": {},
   "outputs": [
    {
     "name": "stdout",
     "output_type": "stream",
     "text": [
      "Enter the year : 2022\n",
      "Enter the month : 7\n",
      "     July 2022\n",
      "Mo Tu We Th Fr Sa Su\n",
      "             1  2  3\n",
      " 4  5  6  7  8  9 10\n",
      "11 12 13 14 15 16 17\n",
      "18 19 20 21 22 23 24\n",
      "25 26 27 28 29 30 31\n",
      "\n"
     ]
    }
   ],
   "source": [
    "#3.Write a Python program to display calendar?\n",
    "import calendar\n",
    "year = int(input(\"Enter the year : \"))\n",
    "Month = int(input(\"Enter the month : \"))\n",
    "print(calendar.month(year,Month))"
   ]
  },
  {
   "cell_type": "code",
   "execution_count": 4,
   "id": "6e3d21f9",
   "metadata": {},
   "outputs": [
    {
     "name": "stdout",
     "output_type": "stream",
     "text": [
      "The roots of a quadratic equation are (-3+4.795831523312719j) , (-3-4.795831523312719j)\n"
     ]
    }
   ],
   "source": [
    "#4.\tWrite a Python program to solve quadratic equation?\n",
    "#roots of a quadratic equation ax**2+bx+c=0\n",
    "import cmath\n",
    "a=2\n",
    "b=3\n",
    "c=4\n",
    "root1 = (-b+(cmath.sqrt(b*b - 4*a*c)))/2*a\n",
    "root2 = (-b-(cmath.sqrt(b*b - 4*a*c)))/2*a\n",
    "print(f\"The roots of a quadratic equation are {root1} , {root2}\")"
   ]
  },
  {
   "cell_type": "code",
   "execution_count": 6,
   "id": "2712a3c5",
   "metadata": {},
   "outputs": [
    {
     "name": "stdout",
     "output_type": "stream",
     "text": [
      "Values of a and b before swapping :  100   200\n",
      "Values of a and b after swapping :  200   100\n"
     ]
    }
   ],
   "source": [
    "#5.\tWrite a Python program to swap two variables without temp variable?\n",
    "a=100\n",
    "b=200\n",
    "print(\"Values of a and b before swapping : \", a,\" \",b)\n",
    "a,b=b,a\n",
    "print(\"Values of a and b after swapping : \", a,\" \",b)"
   ]
  },
  {
   "cell_type": "code",
   "execution_count": null,
   "id": "0cf5c6f9",
   "metadata": {},
   "outputs": [],
   "source": []
  }
 ],
 "metadata": {
  "kernelspec": {
   "display_name": "Python 3 (ipykernel)",
   "language": "python",
   "name": "python3"
  },
  "language_info": {
   "codemirror_mode": {
    "name": "ipython",
    "version": 3
   },
   "file_extension": ".py",
   "mimetype": "text/x-python",
   "name": "python",
   "nbconvert_exporter": "python",
   "pygments_lexer": "ipython3",
   "version": "3.9.12"
  }
 },
 "nbformat": 4,
 "nbformat_minor": 5
}
